{
 "cells": [
  {
   "cell_type": "code",
   "execution_count": null,
   "metadata": {},
   "outputs": [],
   "source": [
    "from sklearn.feature_extraction.text import CountVectorizer\n",
    "from sklearn.model_selection import train_test_split\n",
    "from sklearn.linear_model import LogisticRegression\n",
    "from sklearn.metrics import classification_report, accuracy_score\n",
    "import pandas as pd"
   ]
  },
  {
   "cell_type": "code",
   "execution_count": null,
   "metadata": {},
   "outputs": [],
   "source": [
    "\n",
    "# Load the data\n",
    "file_path = '/mnt/data/train.tsv'\n",
    "data = pd.read_csv(file_path, sep='\\t')\n",
    "\n",
    "# Extract text and labels (adjust column names as per your dataset)\n",
    "data = data.rename(columns={data.columns[1]: \"label\", data.columns[2]: \"text\"})\n",
    "data = data[[\"text\", \"label\"]]\n",
    "\n",
    "# Map labels to binary values (customize mapping based on the data)\n",
    "label_mapping = {\n",
    "    \"false\": 0,\n",
    "    \"half-true\": 0,\n",
    "    \"mostly-true\": 1,\n",
    "    \"true\": 1\n",
    "}\n",
    "data[\"label\"] = data[\"label\"].map(label_mapping)\n",
    "\n",
    "# Drop rows with missing labels\n",
    "data = data.dropna()\n",
    "\n",
    "# Split the data into features and target\n",
    "X = data[\"text\"]\n",
    "y = data[\"label\"]\n",
    "\n",
    "# Split into training and test sets\n",
    "X_train, X_test, y_train, y_test = train_test_split(X, y, test_size=0.2, random_state=42)\n",
    "\n",
    "# Convert text data to Bag-of-Words representation\n",
    "vectorizer = CountVectorizer(stop_words=\"english\", max_features=5000)\n",
    "X_train_bow = vectorizer.fit_transform(X_train)\n",
    "X_test_bow = vectorizer.transform(X_test)\n",
    "\n",
    "# Train logistic regression\n",
    "model = LogisticRegression()\n",
    "model.fit(X_train_bow, y_train)\n",
    "\n",
    "# Predict on test data\n",
    "y_pred = model.predict(X_test_bow)\n",
    "\n",
    "# Evaluate the model\n",
    "print(\"Accuracy:\", accuracy_score(y_test, y_pred))\n",
    "print(\"\\nClassification Report:\\n\", classification_report(y_test, y_pred))\n"
   ]
  }
 ],
 "metadata": {
  "kernelspec": {
   "display_name": "Python 3",
   "language": "python",
   "name": "python3"
  },
  "language_info": {
   "name": "python",
   "version": "3.12.1"
  }
 },
 "nbformat": 4,
 "nbformat_minor": 2
}
