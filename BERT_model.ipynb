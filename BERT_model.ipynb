{
 "cells": [
  {
   "cell_type": "markdown",
   "metadata": {
    "colab_type": "text",
    "id": "view-in-github"
   },
   "source": [
    "<a href=\"https://colab.research.google.com/github/khaeuss808/NLP_Final_Project_FakeNews/blob/main/BERT_model.ipynb\" target=\"_parent\"><img src=\"https://colab.research.google.com/assets/colab-badge.svg\" alt=\"Open In Colab\"/></a>"
   ]
  },
  {
   "cell_type": "code",
   "execution_count": null,
   "metadata": {
    "colab": {
     "base_uri": "https://localhost:8080/"
    },
    "id": "R2m-ZxLW-R67",
    "outputId": "a4007076-9e3e-482f-9a8f-159a246b3770"
   },
   "outputs": [
    {
     "name": "stdout",
     "output_type": "stream",
     "text": [
      "Drive already mounted at /content/drive; to attempt to forcibly remount, call drive.mount(\"/content/drive\", force_remount=True).\n"
     ]
    }
   ],
   "source": [
    "from google.colab import drive\n",
    "drive.mount('/content/drive')"
   ]
  },
  {
   "cell_type": "code",
   "execution_count": null,
   "metadata": {
    "colab": {
     "base_uri": "https://localhost:8080/"
    },
    "id": "ezIt85FYhicD",
    "outputId": "0738dcd4-bc5b-480b-e88c-1e500be46826"
   },
   "outputs": [
    {
     "ename": "ModuleNotFoundError",
     "evalue": "No module named 'transformers'",
     "output_type": "error",
     "traceback": [
      "\u001b[0;31m---------------------------------------------------------------------------\u001b[0m",
      "\u001b[0;31mModuleNotFoundError\u001b[0m                       Traceback (most recent call last)",
      "Cell \u001b[0;32mIn[1], line 10\u001b[0m\n\u001b[1;32m      8\u001b[0m \u001b[38;5;28;01mfrom\u001b[39;00m \u001b[38;5;21;01msklearn\u001b[39;00m\u001b[38;5;21;01m.\u001b[39;00m\u001b[38;5;21;01mmodel_selection\u001b[39;00m \u001b[38;5;28;01mimport\u001b[39;00m train_test_split\n\u001b[1;32m      9\u001b[0m \u001b[38;5;28;01mfrom\u001b[39;00m \u001b[38;5;21;01msklearn\u001b[39;00m\u001b[38;5;21;01m.\u001b[39;00m\u001b[38;5;21;01mmetrics\u001b[39;00m \u001b[38;5;28;01mimport\u001b[39;00m classification_report\n\u001b[0;32m---> 10\u001b[0m \u001b[38;5;28;01mfrom\u001b[39;00m \u001b[38;5;21;01mtransformers\u001b[39;00m \u001b[38;5;28;01mimport\u001b[39;00m AutoModel, BertTokenizerFast, BertModel, BertForSequenceClassification,AdamW,BertConfig, get_linear_schedule_with_warmup\n\u001b[1;32m     11\u001b[0m \u001b[38;5;28;01mfrom\u001b[39;00m \u001b[38;5;21;01mtorch\u001b[39;00m\u001b[38;5;21;01m.\u001b[39;00m\u001b[38;5;21;01mutils\u001b[39;00m\u001b[38;5;21;01m.\u001b[39;00m\u001b[38;5;21;01mdata\u001b[39;00m \u001b[38;5;28;01mimport\u001b[39;00m TensorDataset,DataLoader,RandomSampler,SequentialSampler\n\u001b[1;32m     12\u001b[0m \u001b[38;5;28;01mfrom\u001b[39;00m \u001b[38;5;21;01msklearn\u001b[39;00m\u001b[38;5;21;01m.\u001b[39;00m\u001b[38;5;21;01mpreprocessing\u001b[39;00m \u001b[38;5;28;01mimport\u001b[39;00m LabelEncoder\n",
      "\u001b[0;31mModuleNotFoundError\u001b[0m: No module named 'transformers'"
     ]
    }
   ],
   "source": [
    "import numpy as np\n",
    "import pandas as pd\n",
    "import seaborn as sns\n",
    "import matplotlib.pyplot as plt\n",
    "import torch\n",
    "import torch.nn as nn\n",
    "import random\n",
    "from sklearn.model_selection import train_test_split\n",
    "from sklearn.metrics import classification_report\n",
    "from transformers import AutoModel, BertTokenizerFast, BertModel, BertForSequenceClassification,AdamW,BertConfig, get_linear_schedule_with_warmup\n",
    "from torch.utils.data import TensorDataset,DataLoader,RandomSampler,SequentialSampler\n",
    "from sklearn.preprocessing import LabelEncoder\n",
    "from sklearn.metrics import classification_report, accuracy_score, confusion_matrix\n",
    "import torch\n",
    "import time\n",
    "\n",
    "start_time = time.time()\n",
    "\n",
    "\n",
    "\n",
    "\n",
    "model=BertForSequenceClassification.from_pretrained(\"bert-base-uncased\", num_labels=2)\n",
    "tokenizer = BertTokenizerFast.from_pretrained(\"bert-base-uncased\")\n",
    "\n",
    "tokenized_statements=[]\n",
    "\n",
    "liar_df_train=pd.read_csv(\"https://github.com/khaeuss808/NLP_Final_Project_FakeNews/raw/refs/heads/main/train.tsv\",delimiter=\"\\t\")\n",
    "liar_df_valid=pd.read_csv(\"https://github.com/khaeuss808/NLP_Final_Project_FakeNews/raw/refs/heads/main/valid.tsv\",delimiter=\"\\t\")\n",
    "liar_df_test = pd.read_csv(\"https://github.com/khaeuss808/NLP_Final_Project_FakeNews/raw/refs/heads/main/test.tsv\", delimiter=\"\\t\", encoding='latin1')"
   ]
  },
  {
   "cell_type": "code",
   "execution_count": null,
   "metadata": {
    "colab": {
     "base_uri": "https://localhost:8080/"
    },
    "id": "MFQieaxXiB_c",
    "outputId": "39134c7f-9366-43a5-a90f-55a31bf5d81e"
   },
   "outputs": [
    {
     "name": "stdout",
     "output_type": "stream",
     "text": [
      "There are 1 GPU(s) available.\n",
      "We will use the GPU: NVIDIA L4\n"
     ]
    }
   ],
   "source": [
    "total_rows_train=liar_df_train.shape[0]\n",
    "total_rows_valid=liar_df_valid.shape[0]\n",
    "total_rows_test=liar_df_test.shape[0]\n",
    "\n",
    "if torch.cuda.is_available():\n",
    "\n",
    "    # Tell PyTorch to use the GPU.\n",
    "    device = torch.device(\"cuda\")\n",
    "\n",
    "    print('There are %d GPU(s) available.' % torch.cuda.device_count())\n",
    "\n",
    "    print('We will use the GPU:', torch.cuda.get_device_name(0))\n",
    "\n",
    "# If not...\n",
    "else:\n",
    "    print('No GPU available, using the CPU instead.')\n",
    "    device = torch.device(\"cpu\")\n",
    "\n",
    "word_counts = []\n",
    "\n",
    "validation_statements = []\n",
    "\n",
    "test_statements= []"
   ]
  },
  {
   "cell_type": "code",
   "execution_count": null,
   "metadata": {
    "id": "67OMNCs103xJ"
   },
   "outputs": [],
   "source": [
    "for i in range(total_rows_train):\n",
    "    text_train=liar_df_train.iloc[i, 2]\n",
    "    tokens=tokenizer(text_train,padding=\"max_length\",truncation=True,max_length=100, return_tensors=\"pt\")\n",
    "    tokenized_statements.append(tokens)\n",
    "\n",
    "for i in range(total_rows_valid):\n",
    "    text_valid=liar_df_valid.iloc[i, 2]\n",
    "    tokens_valid=tokenizer(text_valid,padding=\"max_length\",truncation=True,max_length=100, return_tensors=\"pt\")\n",
    "    validation_statements.append(tokens_valid)\n",
    "\n",
    "for i in range(total_rows_test):\n",
    "    text_test=liar_df_test.iloc[i, 2]\n",
    "    tokens_test=tokenizer(text_test,padding=\"max_length\",truncation=True,max_length=100, return_tensors=\"pt\")\n",
    "    test_statements.append(tokens_test)\n",
    "\n",
    "train_input_ids = torch.cat([t['input_ids'] for t in tokenized_statements], dim=0)\n",
    "train_attention_mask = torch.cat([t['attention_mask'] for t in tokenized_statements], dim=0)\n",
    "label_encoder = LabelEncoder()\n",
    "numeric_labels = label_encoder.fit_transform(liar_df_train.iloc[:, 1])\n",
    "binary_labels_train = liar_df_train.iloc[:, 14]  # 14 is the index of the 15th column\n",
    "train_labels = torch.tensor(binary_labels_train, dtype=torch.long)\n",
    "\n",
    "\n",
    "validation_input_ids = torch.cat([v['input_ids'] for v in validation_statements], dim=0)\n",
    "validation_attention_mask = torch.cat([v['attention_mask'] for v in validation_statements], dim=0)\n",
    "label_encoder = LabelEncoder()\n",
    "numeric_labels_valid = label_encoder.fit_transform(liar_df_valid.iloc[:, 1])\n",
    "binary_labels_valid = liar_df_valid.iloc[:, 14]  # 14 is the index of the 15th column\n",
    "valid_labels = torch.tensor(binary_labels_valid, dtype=torch.long)\n",
    "\n",
    "test_input_ids = torch.cat([t['input_ids'] for t in test_statements], dim=0)\n",
    "test_attention_mask = torch.cat([t['attention_mask'] for t in test_statements], dim=0)\n",
    "label_encoder_test = LabelEncoder()\n",
    "numeric_labels_test = label_encoder_test.fit_transform(liar_df_test.iloc[:, 1])\n",
    "binary_labels_test = liar_df_test.iloc[:, 14]  # 14 is the index of the 15th column\n",
    "test_labels = torch.tensor(binary_labels_test, dtype=torch.long)"
   ]
  },
  {
   "cell_type": "code",
   "execution_count": null,
   "metadata": {
    "colab": {
     "base_uri": "https://localhost:8080/"
    },
    "id": "hKQM8t9x05GB",
    "outputId": "650d2cc4-fcb1-4f0d-98e9-f5bdea9203ca"
   },
   "outputs": [
    {
     "name": "stderr",
     "output_type": "stream",
     "text": [
      "/usr/local/lib/python3.10/dist-packages/transformers/optimization.py:591: FutureWarning: This implementation of AdamW is deprecated and will be removed in a future version. Use the PyTorch implementation torch.optim.AdamW instead, or set `no_deprecation_warning=True` to disable this warning\n",
      "  warnings.warn(\n"
     ]
    }
   ],
   "source": [
    "batch_size=32\n",
    "\n",
    "#Training Dataset Preparation\n",
    "train_data=TensorDataset(train_input_ids,train_attention_mask,train_labels)\n",
    "train_sampler=RandomSampler(train_data)\n",
    "train_dataloader=DataLoader(train_data,sampler=train_sampler,batch_size=batch_size)\n",
    "\n",
    "#Double check how to do this without cuda\n",
    "\n",
    "model = model.to(device)  # Moves the model to GPU\n",
    "#input_ids = train_input_ids.cuda()\n",
    "#attention_mask = train_attention_mask.cuda()\n",
    "#labels = train_labels.cuda()\n",
    "\n",
    "optimizer = AdamW(model.parameters(),\n",
    "                  lr = 2e-5,\n",
    "                  eps = 1e-8\n",
    "                )\n",
    "\n",
    "epochs=4\n",
    "total_steps=len(train_dataloader)*epochs\n",
    "\n",
    "scheduler = get_linear_schedule_with_warmup(optimizer,\n",
    "                                            num_warmup_steps=10,\n",
    "                                            num_training_steps=total_steps)\n",
    "\n",
    "def flat_accuracy(preds, labels):\n",
    "    pred_flat = np.argmax(preds, axis=1).flatten()\n",
    "    labels_flat = labels.flatten()\n",
    "    return np.sum(pred_flat == labels_flat) / len(labels_flat)\n",
    "\n",
    "seed_no=24\n",
    "\n",
    "random.seed(seed_no)\n",
    "np.random.seed(seed_no)\n",
    "torch.manual_seed(seed_no)\n",
    "torch.cuda.manual_seed_all(seed_no)\n",
    "\n",
    "loss_values=[]"
   ]
  },
  {
   "cell_type": "code",
   "execution_count": null,
   "metadata": {
    "colab": {
     "base_uri": "https://localhost:8080/"
    },
    "id": "CzR8_Yo01BWP",
    "outputId": "e5e14e3d-fb49-41de-a876-86aacd3d8dbb"
   },
   "outputs": [
    {
     "name": "stdout",
     "output_type": "stream",
     "text": [
      "===== Epoch 1/4 =====\n",
      "\n",
      "  Average training loss: 0.66\n",
      "Running Validation...\n",
      "  Validation Accuracy: 0.61\n",
      "===== Epoch 2/4 =====\n",
      "\n",
      "  Average training loss: 0.62\n",
      "Running Validation...\n",
      "  Validation Accuracy: 0.63\n",
      "===== Epoch 3/4 =====\n",
      "\n",
      "  Average training loss: 0.53\n",
      "Running Validation...\n",
      "  Validation Accuracy: 0.62\n",
      "===== Epoch 4/4 =====\n",
      "\n",
      "  Average training loss: 0.44\n",
      "Running Validation...\n",
      "  Validation Accuracy: 0.62\n"
     ]
    }
   ],
   "source": [
    "# for i in range(0,epochs):\n",
    "#   print(\"===== Epoch {:}/{:} ====\".format(i+1,epochs))\n",
    "#   total_loss=0\n",
    "#   model.train()\n",
    "#   for step,batch in enumerate(train_dataloader):\n",
    "#     b_input_ids = batch[0].to(device)\n",
    "#     b_input_mask = batch[1].to(device)\n",
    "#     b_labels = batch[2].to(device)\n",
    "#     model.zero_grad()\n",
    "#     outputs=model(b_input_ids,\n",
    "#             token_type_ids=None,\n",
    "#             attention_mask=b_input_mask,\n",
    "#             labels=b_labels)\n",
    "#     loss=outputs[0]\n",
    "#     total_loss+=loss.item()\n",
    "#     loss.backward()\n",
    "#     torch.nn.utils.clip_grad_norm_(model.parameters(),1.0)\n",
    "#     optimizer.step()\n",
    "#     scheduler.step()\n",
    "# #Average training loss calculation\n",
    "# train_loss_mean=total_loss/len(train_dataloader)\n",
    "# loss_values.append(train_loss_mean)\n",
    "# print(\"\")\n",
    "# print(\"  Average training loss: {0:.2f}\".format(train_loss_mean))\n",
    "\n",
    "for i in range(0, epochs):\n",
    "    print(\"===== Epoch {:}/{:} =====\".format(i + 1, epochs))\n",
    "\n",
    "    # Training Phase\n",
    "    total_loss = 0\n",
    "    model.train()\n",
    "    for step, batch in enumerate(train_dataloader):\n",
    "        b_input_ids = batch[0].to(device)\n",
    "        b_input_mask = batch[1].to(device)\n",
    "        b_labels = batch[2].to(device)\n",
    "\n",
    "        # Clear previously accumulated gradients\n",
    "        model.zero_grad()\n",
    "\n",
    "        # Forward pass\n",
    "        outputs = model(\n",
    "            b_input_ids,\n",
    "            token_type_ids=None,\n",
    "            attention_mask=b_input_mask,\n",
    "            labels=b_labels\n",
    "        )\n",
    "        loss = outputs[0]\n",
    "\n",
    "        # Accumulate training loss\n",
    "        total_loss += loss.item()\n",
    "\n",
    "        # Backward pass\n",
    "        loss.backward()\n",
    "\n",
    "        # Clip gradients to prevent exploding gradients\n",
    "        torch.nn.utils.clip_grad_norm_(model.parameters(), 1.0)\n",
    "\n",
    "        # Update parameters\n",
    "        optimizer.step()\n",
    "\n",
    "        # Update the learning rate\n",
    "        scheduler.step()\n",
    "\n",
    "    # Calculate average training loss for this epoch\n",
    "    train_loss_mean = total_loss / len(train_dataloader)\n",
    "    loss_values.append(train_loss_mean)\n",
    "    print(\"\")\n",
    "    print(\"  Average training loss: {0:.2f}\".format(train_loss_mean))\n",
    "\n",
    "    # Validation Phase\n",
    "    print(\"Running Validation...\")\n",
    "    model.eval()  # Set the model to evaluation mode\n",
    "\n",
    "    # Initialize metrics for validation\n",
    "    loss_eval, acc_eval = 0, 0\n",
    "    nb_eval_steps, nb_eval_examples = 0, 0\n",
    "\n",
    "    # Initialize validation data\n",
    "    validation_data = TensorDataset(validation_input_ids, validation_attention_mask, valid_labels)\n",
    "    validation_sampler = SequentialSampler(validation_data)\n",
    "    validation_dataloader = DataLoader(validation_data, sampler=validation_sampler, batch_size=batch_size)\n",
    "\n",
    "    for batch in validation_dataloader:\n",
    "        # Move validation batch to device\n",
    "        batch = tuple(t.to(device) for t in batch)\n",
    "        v_input_ids, v_input_mask, v_labels = batch\n",
    "\n",
    "        # Disable gradient computation for validation\n",
    "        with torch.no_grad():\n",
    "            outputs = model(v_input_ids, token_type_ids=None, attention_mask=v_input_mask)\n",
    "\n",
    "        logits = outputs[0]\n",
    "        logits = logits.detach().cpu().numpy()\n",
    "        label_ids = v_labels.to('cpu').numpy()\n",
    "\n",
    "        # Compute batch accuracy\n",
    "        eval_accuracy_batch = flat_accuracy(logits, label_ids)\n",
    "        acc_eval += eval_accuracy_batch\n",
    "        nb_eval_steps += 1\n",
    "\n",
    "    # Report validation accuracy for this epoch\n",
    "    print(\"  Validation Accuracy: {0:.2f}\".format(acc_eval / nb_eval_steps))\n"
   ]
  },
  {
   "cell_type": "code",
   "execution_count": null,
   "metadata": {
    "id": "-vwnZl6f1Dnw"
   },
   "outputs": [],
   "source": []
  },
  {
   "cell_type": "markdown",
   "metadata": {
    "id": "PE5TBNcM1FAU"
   },
   "source": [
    "## Validation Stage"
   ]
  },
  {
   "cell_type": "code",
   "execution_count": null,
   "metadata": {
    "id": "MjiuaFem1KTK"
   },
   "outputs": [],
   "source": [
    "# #Validation phase\n",
    "# model.eval()\n",
    "# loss_eval, acc_eval=0,0\n",
    "# nb_eval_steps,nb_eval_examples=0,0\n",
    "# #Data evaluation per epoch\n",
    "# ##Initialize validation inputs\n",
    "# validation_data = TensorDataset(validation_input_ids, validation_attention_mask, valid_labels)\n",
    "# validation_sampler = SequentialSampler(validation_data)\n",
    "# validation_dataloader = DataLoader(validation_data, sampler=validation_sampler, batch_size=batch_size)\n",
    "\n",
    "# for batch in validation_dataloader:\n",
    "#    batch = tuple(t.to(device) for t in batch)\n",
    "#    #Unpack inputs from dataloader\n",
    "#    v_input_ids,v_input_mask,v_labels=batch\n",
    "\n",
    "#    #Do not store gradients here\n",
    "#    with torch.no_grad():\n",
    "#       outputs=model(v_input_ids,token_type_ids=None,attention_mask=v_input_mask)\n",
    "#    logits=outputs[0]\n",
    "#    logits = logits.detach().cpu().numpy()\n",
    "#    label_ids = v_labels.to('cpu').numpy()\n",
    "#    eval_accuracy_batch=flat_accuracy(logits,label_ids)\n",
    "#    acc_eval+=eval_accuracy_batch\n",
    "#    nb_eval_steps+=1\n",
    "\n",
    "\n",
    "# #Report accuracy of validation run\n",
    "# print(\"Accuracy:{0:.2f}\".format(acc_eval/nb_eval_steps))\n"
   ]
  },
  {
   "cell_type": "markdown",
   "metadata": {
    "id": "xp6uqt5M1OS_"
   },
   "source": [
    "Testing Stage"
   ]
  },
  {
   "cell_type": "code",
   "execution_count": null,
   "metadata": {
    "colab": {
     "base_uri": "https://localhost:8080/",
     "height": 698
    },
    "id": "CAMQEBXt1T7H",
    "outputId": "40b71356-6d28-4be2-a954-d73d15803428"
   },
   "outputs": [
    {
     "name": "stdout",
     "output_type": "stream",
     "text": [
      "Accuracy:0.63490854\n",
      "\n",
      "Classification Report:\n",
      "              precision    recall  f1-score   support\n",
      "\n",
      "           0       0.60      0.51      0.55       556\n",
      "           1       0.66      0.74      0.70       726\n",
      "\n",
      "    accuracy                           0.64      1282\n",
      "   macro avg       0.63      0.62      0.62      1282\n",
      "weighted avg       0.63      0.64      0.63      1282\n",
      "\n"
     ]
    },
    {
     "data": {
      "image/png": "[encoded data removed]",
      "text/plain": [
       "<Figure size 640x480 with 2 Axes>"
      ]
     },
     "metadata": {},
     "output_type": "display_data"
    },
    {
     "name": "stdout",
     "output_type": "stream",
     "text": [
      "Elapsed time: 314.83507919311523 seconds\n"
     ]
    }
   ],
   "source": [
    "#Test phase\n",
    "model.eval()\n",
    "loss_test, acc_test=0,0\n",
    "nb_test_steps,nb_test_examples=0,0\n",
    "\n",
    "# Tracking variables\n",
    "predictions , true_labels = [], []\n",
    "\n",
    "#Data evaluation per epoch\n",
    "##Initialize validation inputs\n",
    "test_data = TensorDataset(test_input_ids, test_attention_mask, test_labels)\n",
    "test_sampler = SequentialSampler(test_data)\n",
    "test_dataloader = DataLoader(test_data, sampler=test_sampler, batch_size=batch_size)\n",
    "\n",
    "for batch in test_dataloader:\n",
    "   batch = tuple(t.to(device) for t in batch)\n",
    "   #Unpack inputs from dataloader\n",
    "   t_input_ids,t_input_mask,t_labels=batch\n",
    "\n",
    "   #Do not store gradients here\n",
    "   with torch.no_grad():\n",
    "      outputs=model(t_input_ids,token_type_ids=None,attention_mask=t_input_mask)\n",
    "   logits=outputs[0]\n",
    "   logits = logits.detach().cpu().numpy()\n",
    "   label_ids = t_labels.to('cpu').numpy()\n",
    "\n",
    "   predictions.extend(np.argmax(logits, axis=1))  # Predicted class\n",
    "   true_labels.extend(label_ids)  # True class\n",
    "   test_accuracy_batch=flat_accuracy(logits,label_ids)\n",
    "   acc_test+=test_accuracy_batch\n",
    "   nb_test_steps+=1\n",
    "\n",
    "#Report accuracy of validation run\n",
    "print(\"Accuracy:{0:.8f}\".format(acc_test/nb_test_steps))\n",
    "\n",
    "print(\"\\nClassification Report:\")\n",
    "print(classification_report(true_labels, predictions))\n",
    "#custom_order = [4,1,2,0,3,5]\n",
    "\n",
    "conf_matrix = confusion_matrix(true_labels, predictions)\n",
    "sns.heatmap(conf_matrix, annot=True, fmt='d', cmap='Blues', xticklabels=[\"False\",\"True\"], yticklabels=[\"False\",\"True\"])\n",
    "plt.xlabel('Predicted')\n",
    "plt.ylabel('Actual')\n",
    "plt.title('Confusion Matrix')\n",
    "plt.show()\n",
    "\n",
    "# Code to be timed\n",
    "\n",
    "end_time = time.time()\n",
    "\n",
    "elapsed_time = end_time - start_time\n",
    "\n",
    "print(f\"Elapsed time: {elapsed_time} seconds\")\n"
   ]
  },
  {
   "cell_type": "code",
   "execution_count": null,
   "metadata": {
    "colab": {
     "base_uri": "https://localhost:8080/",
     "height": 209
    },
    "id": "VBjOAmkb6wLs",
    "outputId": "af0f0f35-7baf-410e-d308-b18a5e13c39e"
   },
   "outputs": [
    {
     "data": {
      "application/vnd.google.colaboratory.intrinsic+json": {
       "type": "string"
      },
      "text/plain": [
       "'def predict_single_statement(model, tokenizer, statement, device):\\n    model.eval()  # Set the model to evaluation mode\\n\\n    # Tokenize and encode the statement\\n    encoded_dict = tokenizer.encode_plus(\\n        statement,\\n        add_special_tokens=True,\\n        max_length=100,  # Adjust as per your model\\'s input requirements\\n        pad_to_max_length=True,\\n        return_attention_mask=True,\\n        return_tensors=\\'pt\\',  # Return PyTorch tensors\\n    )\\n\\n    # Extract input IDs and attention masks\\n    input_ids_test = encoded_dict[\\'input_ids\\'].to(device)\\n    attention_mask_test = encoded_dict[\\'attention_mask\\'].to(device)\\n\\n    # Perform the prediction\\n    with torch.no_grad():\\n        outputs = model(input_ids_test, token_type_ids=None, attention_mask=attention_mask_test)\\n\\n    # Extract logits\\n    logits = outputs[0].detach().cpu().numpy()\\n\\n    # Apply softmax for probabilities\\n    from torch.nn.functional import softmax\\n    probabilities = softmax(torch.tensor(logits), dim=1).numpy()\\n\\n    # Get the predicted class\\n    predicted_class = probabilities.argmax(axis=1)[0]\\n\\n    # Map to string label\\n    predicted_string_label = label_encoder_test.inverse_transform([predicted_class])[0]\\n\\n    return predicted_class, probabilities, logits\\n\\n# Example usage\\nstatement = \"The United States has a low voter turnout rate.\"\\npredicted_numeric_class, probabilities, logits = predict_single_statement(model, tokenizer, statement, device)\\n\\nprint(statement)\\nprint(f\"Predicted Numeric Class: {predicted_numeric_class}\")\\nprint(f\"Probabilities: {probabilities}\")\\nprint(f\"Logits: {logits}\")\\n'"
      ]
     },
     "execution_count": 19,
     "metadata": {},
     "output_type": "execute_result"
    }
   ],
   "source": [
    "\"\"\"def predict_single_statement(model, tokenizer, statement, device):\n",
    "    model.eval()  # Set the model to evaluation mode\n",
    "\n",
    "    # Tokenize and encode the statement\n",
    "    encoded_dict = tokenizer.encode_plus(\n",
    "        statement,\n",
    "        add_special_tokens=True,\n",
    "        max_length=100,  # Adjust as per your model's input requirements\n",
    "        pad_to_max_length=True,\n",
    "        return_attention_mask=True,\n",
    "        return_tensors='pt',  # Return PyTorch tensors\n",
    "    )\n",
    "\n",
    "    # Extract input IDs and attention masks\n",
    "    input_ids_test = encoded_dict['input_ids'].to(device)\n",
    "    attention_mask_test = encoded_dict['attention_mask'].to(device)\n",
    "\n",
    "    # Perform the prediction\n",
    "    with torch.no_grad():\n",
    "        outputs = model(input_ids_test, token_type_ids=None, attention_mask=attention_mask_test)\n",
    "\n",
    "    # Extract logits\n",
    "    logits = outputs[0].detach().cpu().numpy()\n",
    "\n",
    "    # Apply softmax for probabilities\n",
    "    from torch.nn.functional import softmax\n",
    "    probabilities = softmax(torch.tensor(logits), dim=1).numpy()\n",
    "\n",
    "    # Get the predicted class\n",
    "    predicted_class = probabilities.argmax(axis=1)[0]\n",
    "\n",
    "    # Map to string label\n",
    "    predicted_string_label = label_encoder_test.inverse_transform([predicted_class])[0]\n",
    "\n",
    "    return predicted_class, probabilities, logits\n",
    "\n",
    "# Example usage\n",
    "statement = \"The United States has a low voter turnout rate.\"\n",
    "predicted_numeric_class, probabilities, logits = predict_single_statement(model, tokenizer, statement, device)\n",
    "\n",
    "print(statement)\n",
    "print(f\"Predicted Numeric Class: {predicted_numeric_class}\")\n",
    "print(f\"Probabilities: {probabilities}\")\n",
    "print(f\"Logits: {logits}\")\n",
    "\"\"\""
   ]
  }
 ],
 "metadata": {
  "accelerator": "GPU",
  "colab": {
   "gpuType": "T4",
   "include_colab_link": true,
   "provenance": []
  },
  "kernelspec": {
   "display_name": "Python 3",
   "name": "python3"
  },
  "language_info": {
   "codemirror_mode": {
    "name": "ipython",
    "version": 3
   },
   "file_extension": ".py",
   "mimetype": "text/x-python",
   "name": "python",
   "nbconvert_exporter": "python",
   "pygments_lexer": "ipython3",
   "version": "3.12.1"
  }
 },
 "nbformat": 4,
 "nbformat_minor": 0
}
